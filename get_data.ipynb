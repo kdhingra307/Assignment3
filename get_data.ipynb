{
 "cells": [
  {
   "cell_type": "code",
   "execution_count": 2,
   "metadata": {},
   "outputs": [],
   "source": [
    "import numpy as np\n",
    "import matplotlib.pyplot as plt"
   ]
  },
  {
   "cell_type": "code",
   "execution_count": 6,
   "metadata": {},
   "outputs": [],
   "source": [
    "def clean_directory(label):\n",
    "    import os\n",
    "    assert label.split(\"/\")[0] == \"resources\" and \"..\" not in label\n",
    "    \n",
    "    try:\n",
    "        os.makedirs(label, exist_ok=False)\n",
    "    except FileExistsError as e:\n",
    "         print(\"Directory with path, {} already exists,\".format(label))\n",
    "    except Exception as e:\n",
    "        raise Exception"
   ]
  },
  {
   "cell_type": "code",
   "execution_count": 1,
   "metadata": {},
   "outputs": [],
   "source": [
    "def get_mnist():\n",
    "    \n",
    "    from torchvision.datasets import MNIST\n",
    "    MNIST(\"resources/data/raw\", download=True)\n",
    "    !wget https://github.com/kdhingra307/Assignment3/archive/0.0.zip -P resources/data/raw"
   ]
  },
  {
   "cell_type": "code",
   "execution_count": 21,
   "metadata": {},
   "outputs": [],
   "source": [
    "def get_mnist_m(download=False):\n",
    "    if download:\n",
    "        !wget https://github.com/kdhingra307/Assignment3/releases/download/0.0/mnist_m.tar -P resources/data/raw\n",
    "    !tar -xf resources/data/raw/mnist_m.tar -C resources/data/raw"
   ]
  },
  {
   "cell_type": "code",
   "execution_count": 22,
   "metadata": {},
   "outputs": [],
   "source": [
    "get_mnist_m()"
   ]
  },
  {
   "cell_type": "code",
   "execution_count": 30,
   "metadata": {},
   "outputs": [
    {
     "name": "stdout",
     "output_type": "stream",
     "text": [
      "\u001b[0m\u001b[01;34mMNIST\u001b[0m/  \u001b[01;34mmnist_m\u001b[0m/  \u001b[01;31mmnist_m.tar\u001b[0m\r\n"
     ]
    }
   ],
   "source": [
    "ls resources/data/raw/"
   ]
  },
  {
   "cell_type": "code",
   "execution_count": null,
   "metadata": {},
   "outputs": [],
   "source": []
  }
 ],
 "metadata": {
  "kernelspec": {
   "display_name": "Python 3",
   "language": "python",
   "name": "python3"
  },
  "language_info": {
   "codemirror_mode": {
    "name": "ipython",
    "version": 3
   },
   "file_extension": ".py",
   "mimetype": "text/x-python",
   "name": "python",
   "nbconvert_exporter": "python",
   "pygments_lexer": "ipython3",
   "version": "3.6.9"
  }
 },
 "nbformat": 4,
 "nbformat_minor": 2
}
