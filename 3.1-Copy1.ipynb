{
 "cells": [
  {
   "cell_type": "code",
   "execution_count": 1,
   "metadata": {},
   "outputs": [],
   "source": [
    "import numpy as np\n",
    "import torch\n",
    "from matplotlib import pyplot as plt\n",
    "from tqdm.notebook import tqdm"
   ]
  },
  {
   "cell_type": "code",
   "execution_count": 33,
   "metadata": {},
   "outputs": [],
   "source": [
    "def make_trans_moons(theta=40, nb=100, noise=.05):\n",
    "    from sklearn.datasets import make_moons\n",
    "    from math import cos, sin, pi\n",
    "    \n",
    "    X, y = make_moons(nb, noise=noise, random_state=1) \n",
    "    Xt, yt = make_moons(nb, noise=noise, random_state=2)\n",
    "    \n",
    "    trans = -np.mean(X, axis=0) \n",
    "    X  = 2*(X+trans)\n",
    "    Xt = 2*(Xt+trans)\n",
    "    \n",
    "    theta = -theta*pi/180\n",
    "    rotation = np.array( [  [cos(theta), sin(theta)], [-sin(theta), cos(theta)] ] )\n",
    "    Xt = np.dot(Xt, rotation.T)\n",
    "    \n",
    "    return X, y, Xt, yt"
   ]
  },
  {
   "cell_type": "code",
   "execution_count": 34,
   "metadata": {},
   "outputs": [],
   "source": [
    "X,y,Xt,yt = make_trans_moons()"
   ]
  },
  {
   "cell_type": "code",
   "execution_count": 35,
   "metadata": {},
   "outputs": [],
   "source": [
    "class moon_model(torch.nn.Module):\n",
    "    \n",
    "    def __init__(self):\n",
    "        super(moon_model, self).__init__()\n",
    "        self.W = torch.nn.Linear(in_features=2, out_features=15)\n",
    "        self.V = torch.nn.Linear(in_features=15, out_features=2)\n",
    "        self.u = torch.nn.Parameter(torch.zeros((15, 1), requires_grad=True))\n",
    "        self.d = torch.nn.Parameter(torch.zeros((1,1), requires_grad=True))\n",
    "        self.sigmoid = torch.nn.Sigmoid()\n",
    "        self.lam = 5\n",
    "    \n",
    "    def forward(self, X):\n",
    "        return self.V(self.sigmoid(self.W(X)))\n",
    "    \n",
    "    def domain_adapt(self, X):\n",
    "        Gf = self.sigmoid(self.W(X))\n",
    "        Gd = self.sigmoid(torch.matmul(Gf, self.u) + self.d)\n",
    "        self.d.grad = self.lam * (1-Gd)\n",
    "        self.u.grad = self.d.grad * Gf.T\n",
    "#         self.tmp = (self.lam*(1-Gd)*self.u).T * (Gf*(1-Gf))\n",
    "#         self.W.bias.grad += self.tmp[0]\n",
    "#         self.W.weight.grad += self.tmp.T * X\n",
    "    \n",
    "    def domain_regularize(self, X):\n",
    "        Gf = self.sigmoid(self.W(X))\n",
    "        Gd = self.sigmoid(torch.matmul(Gf, self.u) + self.d)\n",
    "        self.d.grad -= self.lam * (Gd)\n",
    "        self.u.grad -= self.lam * (Gd) * Gf.T\n",
    "#         self.tmp = (-1*self.lam*(Gd) * self.u).T*Gf*(1-Gf)\n",
    "#         self.W.bias.grad += self.tmp[0]\n",
    "#         self.W.weight.grad += self.tmp.T * X\n",
    "    "
   ]
  },
  {
   "cell_type": "code",
   "execution_count": 36,
   "metadata": {},
   "outputs": [],
   "source": [
    "model = moon_model()"
   ]
  },
  {
   "cell_type": "code",
   "execution_count": 37,
   "metadata": {},
   "outputs": [],
   "source": [
    "softmax_loss = torch.nn.CrossEntropyLoss()\n",
    "optimizer = torch.optim.SGD(lr=0.05, params=model.parameters())"
   ]
  },
  {
   "cell_type": "code",
   "execution_count": 71,
   "metadata": {},
   "outputs": [
    {
     "data": {
      "application/vnd.jupyter.widget-view+json": {
       "model_id": "2b4ad1e91e6a4f77bbaca8587b2c5a52",
       "version_major": 2,
       "version_minor": 0
      },
      "text/plain": [
       "HBox(children=(FloatProgress(value=0.0), HTML(value='')))"
      ]
     },
     "metadata": {},
     "output_type": "display_data"
    },
    {
     "name": "stdout",
     "output_type": "stream",
     "text": [
      "\n"
     ]
    }
   ],
   "source": [
    "controller = tqdm(range(100))\n",
    "for epoch in controller:\n",
    "    for i in range(len(X)):\n",
    "        \n",
    "        optimizer.zero_grad()\n",
    "        sample, target = torch.Tensor(X[i]).unsqueeze(0), torch.Tensor([y[i]]).reshape([1]).long()\n",
    "        di = np.random.randint(len(Xt))\n",
    "        dsample, dtarget = torch.Tensor(Xt[di]).unsqueeze(0),torch.Tensor([yt[di]]).reshape([1]).long()\n",
    "\n",
    "        loss = softmax_loss(target=target, input=model(sample))\n",
    "        loss.backward()\n",
    "        \n",
    "        model.domain_adapt(sample)\n",
    "        model.domain_regularize(dsample)\n",
    "        model.u.grad *= -1\n",
    "        model.d.grad *= -1\n",
    "        optimizer.step()\n",
    "        \n",
    "        controller.set_postfix({\"loss\":loss.item()})"
   ]
  },
  {
   "cell_type": "code",
   "execution_count": 72,
   "metadata": {},
   "outputs": [
    {
     "data": {
      "text/plain": [
       "<matplotlib.collections.PathCollection at 0x7f8f8d5e10f0>"
      ]
     },
     "execution_count": 72,
     "metadata": {},
     "output_type": "execute_result"
    },
    {
     "data": {
      "image/png": "[encoded data removed]",
      "text/plain": [
       "<Figure size 432x288 with 1 Axes>"
      ]
     },
     "metadata": {
      "needs_background": "light"
     },
     "output_type": "display_data"
    }
   ],
   "source": [
    "plt.scatter(X[model(torch.Tensor(X)).argmax(1)==1][:,0], X[model(torch.Tensor(X)).argmax(1)==1][:,1])\n",
    "plt.scatter(X[model(torch.Tensor(X)).argmax(1)==0][:,0], X[model(torch.Tensor(X)).argmax(1)==0][:,1])"
   ]
  },
  {
   "cell_type": "code",
   "execution_count": 117,
   "metadata": {},
   "outputs": [
    {
     "data": {
      "text/plain": [
       "<matplotlib.collections.PathCollection at 0x7f8f8cf970b8>"
      ]
     },
     "execution_count": 117,
     "metadata": {},
     "output_type": "execute_result"
    },
    {
     "data": {
      "image/png": "[encoded data removed]",
      "text/plain": [
       "<Figure size 432x288 with 1 Axes>"
      ]
     },
     "metadata": {
      "needs_background": "light"
     },
     "output_type": "display_data"
    }
   ],
   "source": [
    "plt.scatter(Xt[model(torch.Tensor(Xt)).argmax(1)==1][:,0], Xt[model(torch.Tensor(Xt)).argmax(1)==1][:,1])\n",
    "plt.scatter(Xt[model(torch.Tensor(Xt)).argmax(1)==0][:,0], Xt[model(torch.Tensor(Xt)).argmax(1)==0][:,1])"
   ]
  },
  {
   "cell_type": "code",
   "execution_count": 74,
   "metadata": {},
   "outputs": [],
   "source": [
    "from sklearn.decomposition import PCA"
   ]
  },
  {
   "cell_type": "code",
   "execution_count": 75,
   "metadata": {},
   "outputs": [],
   "source": [
    "pca = PCA(n_components=2)"
   ]
  },
  {
   "cell_type": "code",
   "execution_count": 76,
   "metadata": {},
   "outputs": [],
   "source": [
    "first_output = model.sigmoid(model.W(torch.Tensor(X))).detach().cpu().numpy()\n",
    "second_output = model.sigmoid(model.W(torch.Tensor(Xt))).detach().cpu().numpy()"
   ]
  },
  {
   "cell_type": "code",
   "execution_count": 77,
   "metadata": {},
   "outputs": [],
   "source": [
    "output = pca.fit_transform(np.concatenate([first_output, second_output]))"
   ]
  },
  {
   "cell_type": "code",
   "execution_count": 78,
   "metadata": {},
   "outputs": [],
   "source": [
    "index = np.arange(len(output))"
   ]
  },
  {
   "cell_type": "code",
   "execution_count": 79,
   "metadata": {},
   "outputs": [
    {
     "data": {
      "text/plain": [
       "<matplotlib.collections.PathCollection at 0x7f8f8d57f470>"
      ]
     },
     "execution_count": 79,
     "metadata": {},
     "output_type": "execute_result"
    },
    {
     "data": {
      "image/png": "[encoded data removed]",
      "text/plain": [
       "<Figure size 432x288 with 1 Axes>"
      ]
     },
     "metadata": {
      "needs_background": "light"
     },
     "output_type": "display_data"
    }
   ],
   "source": [
    "plt.scatter(output[index<100][:, 0], output[index<100][:, 1] )\n",
    "plt.scatter(output[index>=100][:, 0], output[index>=100][:, 1] )"
   ]
  },
  {
   "cell_type": "code",
   "execution_count": 113,
   "metadata": {},
   "outputs": [],
   "source": [
    "def decision_boundary(X):\n",
    "    from scipy.interpolate import interp1d\n",
    "    x_min, x_max = X[:, 0].min() - 1, X[:, 0].max() + 1\n",
    "    y_min, y_max = X[:, 1].min() - 1, X[:, 1].max() + 1\n",
    "    xx, yy = np.meshgrid(np.arange(x_min, x_max, 0.1),\n",
    "                         np.arange(y_min, y_max, 0.1))\n",
    "    inputs = np.c_[xx.ravel(), yy.ravel()]\n",
    "    \n",
    "    for k in range(15):\n",
    "        Gf = model.sigmoid(model.W(torch.Tensor(inputs))).detach().numpy().round(1) == 0.5\n",
    "        \n",
    "        interp = interp1d(inputs[Gf[:, k]][:, 0], inputs[Gf[:, k]][:, 1])\n",
    "#         print(interp.shape)\n",
    "        xnew_min, xnew_max = inputs[Gf[:, k]][:, 0].min(), inputs[Gf[:, k]][:, 0].max()\n",
    "        xnew = np.linspace(xnew_min, xnew_max, 2)\n",
    "        plt.plot(xnew, interp(xnew))\n",
    "#         Gf = ()[:, k]\n",
    "#         Z = Gf.detach().numpy().reshape(xx.shape)\n",
    "#         plt.imshow(Z)\n",
    "#         plt.show()\n",
    "#     plt.contourf(xx, yy, Z, alpha=0.4)"
   ]
  },
  {
   "cell_type": "code",
   "execution_count": null,
   "metadata": {},
   "outputs": [],
   "source": [
    "decision_boundary(X)\n",
    "plt.scatter(X[y==1][:, 0], X[y==1][:, 1], label=\"Source-1\")\n",
    "plt.scatter(X[y==0][:, 0], X[y==0][:, 1], label=\"Source-0\")\n",
    "plt.scatter(Xt[:, 0], Xt[:, 1], label=\"Target\")\n",
    "plt.legend()"
   ]
  },
  {
   "cell_type": "code",
   "execution_count": 119,
   "metadata": {},
   "outputs": [
    {
     "data": {
      "text/plain": [
       "1.0"
      ]
     },
     "execution_count": 119,
     "metadata": {},
     "output_type": "execute_result"
    }
   ],
   "source": [
    "np.count_nonzero(model(torch.Tensor(X)).argmax(1).cpu().numpy() == y)/len(y)"
   ]
  },
  {
   "cell_type": "code",
   "execution_count": null,
   "metadata": {},
   "outputs": [],
   "source": []
  }
 ],
 "metadata": {
  "kernelspec": {
   "display_name": "Python 3",
   "language": "python",
   "name": "python3"
  },
  "language_info": {
   "codemirror_mode": {
    "name": "ipython",
    "version": 3
   },
   "file_extension": ".py",
   "mimetype": "text/x-python",
   "name": "python",
   "nbconvert_exporter": "python",
   "pygments_lexer": "ipython3",
   "version": "3.6.9"
  }
 },
 "nbformat": 4,
 "nbformat_minor": 2
}
