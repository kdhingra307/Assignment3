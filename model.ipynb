{
 "cells": [
  {
   "cell_type": "code",
   "execution_count": 148,
   "metadata": {},
   "outputs": [],
   "source": [
    "import torch\n",
    "from matplotlib import pyplot as plt\n",
    "from PIL import Image\n",
    "from torchvision import transforms\n",
    "import numpy as np\n",
    "from tqdm.notebook import tqdm"
   ]
  },
  {
   "cell_type": "code",
   "execution_count": 20,
   "metadata": {},
   "outputs": [],
   "source": [
    "class tuple_to_dict:\n",
    "    \n",
    "    def __init__(self, tuple_object):\n",
    "        self.tuple = tuple_object\n",
    "    \n",
    "    def __len__(self):\n",
    "        return len(self.tuple)\n",
    "    \n",
    "    def __getitem__(self, index):\n",
    "        return {\n",
    "            \"input\" : self.tuple[index][0],\n",
    "            \"target\" : self.tuple[index][1],\n",
    "        }"
   ]
  },
  {
   "cell_type": "code",
   "execution_count": 100,
   "metadata": {},
   "outputs": [],
   "source": [
    "def get_mnist(train=False):\n",
    "    from torchvision import datasets, transforms\n",
    "    return tuple_to_dict(datasets.MNIST(\"./resources/data/raw\", train=train, transform=transforms.Compose([transforms.Grayscale(num_output_channels=3),transforms.Resize([32, 32]), transforms.ToTensor()])))"
   ]
  },
  {
   "cell_type": "code",
   "execution_count": 121,
   "metadata": {},
   "outputs": [],
   "source": [
    "class mnist_m:\n",
    "    \n",
    "    def __init__(self, path, train=False):\n",
    "        \n",
    "        if train:\n",
    "            self.files = open(path+\"/mnist_m_train_labels.txt\").read().split(\"\\n\")[:-1]\n",
    "            self.path = path + \"/mnist_m_train/\"\n",
    "        else:\n",
    "            self.files = open(path+\"/mnist_m_test_labels.txt\").read().split(\"\\n\")[:-1]\n",
    "            self.path = path + \"/mnist_m_test/\"\n",
    "        \n",
    "        print(\"Fetching {} files\".format(len(self.files)))\n",
    "        \n",
    "        self.data = []\n",
    "        for e in self.files:\n",
    "            ee = e.split(\" \")\n",
    "            self.data.append({\n",
    "                \"input\" : ee[0],\n",
    "                \"target\" : int(ee[1])\n",
    "            })\n",
    "        \n",
    "        self.transform = transforms.Compose([transforms.ToTensor()])\n",
    "    \n",
    "    def __len__(self):\n",
    "        return len(self.data)\n",
    "    \n",
    "    def __getitem__(self, index):\n",
    "        image = Image.open(self.path + self.data[index]['input'])\n",
    "        \n",
    "        return {\n",
    "            \"input\" : self.transform(image),\n",
    "            \"target\" : self.data[index]['target']\n",
    "        }"
   ]
  },
  {
   "cell_type": "code",
   "execution_count": 192,
   "metadata": {},
   "outputs": [
    {
     "name": "stdout",
     "output_type": "stream",
     "text": [
      "Fetching 59001 files\n",
      "Fetching 9001 files\n"
     ]
    }
   ],
   "source": [
    "dataset = {\n",
    "    \"train\" :{\n",
    "        \"mnist\" : torch.utils.data.DataLoader(get_mnist(train=True), batch_size=64, drop_last=True),\n",
    "        \"mnist_m\" : torch.utils.data.DataLoader(mnist_m(\"resources/data/raw/mnist_m/\", train=True), batch_size=64,drop_last=True),\n",
    "    },\n",
    "    \"test\" : {\n",
    "        \"mnist\" : torch.utils.data.DataLoader(get_mnist(train=False), batch_size=64,drop_last=True),\n",
    "        \"mnist_m\" : torch.utils.data.DataLoader(mnist_m(\"resources/data/raw/mnist_m/\", train=False), batch_size=64, drop_last=True),\n",
    "    }\n",
    "}"
   ]
  },
  {
   "cell_type": "code",
   "execution_count": 330,
   "metadata": {},
   "outputs": [],
   "source": [
    "class grl_grad(torch.autograd.Function):\n",
    "    @staticmethod\n",
    "    def forward(ctx, input):\n",
    "        return input\n",
    "\n",
    "    @staticmethod\n",
    "    def backward(ctx, grad_output):\n",
    "        return -1*grad_output\n",
    "\n",
    "\n",
    "\n",
    "class grl(torch.nn.Module):\n",
    "    \n",
    "    def __init__(self):\n",
    "        super(grl, self).__init__()\n",
    "    \n",
    "    def forward(self, x):\n",
    "        return grl_grad.apply(x)"
   ]
  },
  {
   "cell_type": "code",
   "execution_count": 360,
   "metadata": {},
   "outputs": [],
   "source": [
    "class model(torch.nn.Module):        \n",
    "    \n",
    "    def __encoder__(self):\n",
    "        self.encoder = torch.nn.Sequential(\n",
    "            torch.nn.Conv2d(kernel_size=5, in_channels=3, out_channels=32),\n",
    "            torch.nn.ReLU(),\n",
    "            torch.nn.MaxPool2d(kernel_size=2, stride=2),\n",
    "            torch.nn.Conv2d(kernel_size=5, in_channels=32, out_channels=48),\n",
    "            torch.nn.ReLU(),\n",
    "            torch.nn.MaxPool2d(kernel_size=2, stride=2)\n",
    "        )\n",
    "    \n",
    "    def __classifier__(self):\n",
    "        self.classifier = torch.nn.Sequential(\n",
    "            torch.nn.Linear(in_features=self.encoder_shape, out_features=100),\n",
    "            torch.nn.ReLU(),\n",
    "            torch.nn.Linear(in_features=100, out_features=100),\n",
    "            torch.nn.ReLU(),\n",
    "            torch.nn.Linear(in_features=100, out_features=10),\n",
    "        )\n",
    "    \n",
    "    def __domain__(self):\n",
    "        self.domain =  torch.nn.Sequential(\n",
    "            torch.nn.Linear(in_features=self.encoder_shape, out_features=100),\n",
    "            torch.nn.ReLU(),\n",
    "            torch.nn.Linear(in_features=100, out_features=1),\n",
    "        )\n",
    "    \n",
    "    \n",
    "    def __init__(self,):\n",
    "        super(model, self).__init__()\n",
    "        self.encoder_shape = 48*5*5   \n",
    "        self.__encoder__()\n",
    "        self.__classifier__()\n",
    "        self.grl = grl()\n",
    "        self.__domain__()\n",
    "    \n",
    "    \n",
    "    def forward(self, x, split=False):\n",
    "        encoded = self.encoder(x).reshape([-1, self.encoder_shape])\n",
    "        batch_size = encoded.shape[0]\n",
    "        start_index = 0\n",
    "        end_index = batch_size// 2\n",
    "        \n",
    "        if split:\n",
    "            start_index = end_index\n",
    "            end_index= batch_size\n",
    "        \n",
    "        return {\n",
    "                \"classifier\" : self.classifier(encoded[start_index:end_index]),\n",
    "                \"domain\" : self.domain(self.grl(encoded)).squeeze(-1)\n",
    "            }\n",
    "    "
   ]
  },
  {
   "cell_type": "code",
   "execution_count": 361,
   "metadata": {},
   "outputs": [],
   "source": [
    "def write_stats(stats, model, step):\n",
    "    trainer.tensorboard_writer.add_scalar(\"loss/epoch/{}\".format(model), np.mean(stats['loss']), step)\n",
    "    trainer.tensorboard_writer.add_scalar(\"acc/epoch/{}/domain\".format(model), np.mean(stats['acc']['domain']), step)\n",
    "    trainer.tensorboard_writer.add_scalar(\"acc/epoch/{}/classifier\".format(model), np.mean(stats['acc']['classifier']), step)"
   ]
  },
  {
   "cell_type": "code",
   "execution_count": 368,
   "metadata": {},
   "outputs": [],
   "source": [
    "class train:\n",
    "    \n",
    "    def __init__(self, model_to_train):\n",
    "        self.model = model_to_train()\n",
    "        self.device = torch.device(\"cuda:0\" if torch.cuda.is_available() else \"cpu\") \n",
    "        self.model.to(self.device)\n",
    "        self.loss = {\n",
    "            \"logistic\" : torch.nn.BCEWithLogitsLoss(),\n",
    "            \"softmax\" : torch.nn.CrossEntropyLoss(),\n",
    "        }\n",
    "        self.optimizer = torch.optim.SGD(lr=0.01, momentum=0.9, params=self.model.parameters())\n",
    "#         self.scheduler = torch.optim.lr_scheduler.LambdaLR(self.optimizer, lambda step:0.01/((1+step/100)**0.75), last_epoch=-1)\n",
    "        self.step = 0\n",
    "        self.__get_tensorboard()\n",
    "    \n",
    "    def loop(self, X, to_cpu=False):\n",
    "        X = X.to(self.device)\n",
    "        if to_cpu:\n",
    "            return self.model(X).detach()\n",
    "        return self.model(X)\n",
    "    \n",
    "    def compute_loss(self, X, output):\n",
    "        lam = (2/(1+np.exp(-1*self.step/10))) - 1\n",
    "        loss = self.loss['softmax'](target=X['target']['classifier'], input=output['classifier'])\n",
    "        loss += lam*self.loss['logistic'](target=X['target']['domain'], input=output['domain'])\n",
    "        return loss\n",
    "    \n",
    "    def stats(self, X):\n",
    "        output = self.loop(X['input'])\n",
    "        loss = self.compute_loss(X, output)\n",
    "        classifier_acc = np.count_nonzero(torch.nn.functional.softmax(output['classifier'], dim=-1).argmax(-1).cpu().numpy() == X['target']['classifier'].cpu().numpy())/len(X['target']['classifier'])\n",
    "        target_out = self.model(X['input'], split=True)\n",
    "        domain_acc = np.count_nonzero(torch.nn.functional.softmax(target_out['classifier'], dim=-1).argmax(-1).cpu().numpy() == X['target']['domain_classifier'].cpu().numpy())/len(X['target']['domain_classifier'])\n",
    "        \n",
    "        return {\n",
    "            \"acc\" : {\n",
    "                \"classifier\" : classifier_acc,\n",
    "                \"domain\" : domain_acc,\n",
    "            },\n",
    "            \"loss\" : loss.item()\n",
    "        }\n",
    "    \n",
    "    def cycle(self, X):\n",
    "        self.optimizer.zero_grad()\n",
    "        output = self.loop(X['input'])\n",
    "        cur_loss = self.compute_loss(X, output)\n",
    "        cur_loss.backward()\n",
    "        self.optimizer.step()\n",
    "#         self.scheduler.step()\n",
    "        return cur_loss\n",
    "    \n",
    "    \n",
    "    def get_X(self, mnist_batch, mnist_m_batch):\n",
    "        \n",
    "        mnist_batch_size = mnist_batch['input'].shape[0]\n",
    "        mnist_m_batch_size = mnist_m_batch['input'].shape[0]\n",
    "        \n",
    "        return {\n",
    "            \"input\" : torch.cat([mnist_batch['input'], mnist_m_batch['input']], axis=0).to(self.device),\n",
    "            \"target\" : {\n",
    "                \"classifier\" : mnist_batch['target'].to(self.device),\n",
    "                \"domain\" : torch.cat([torch.ones(mnist_batch_size), torch.zeros(mnist_m_batch_size)], axis=0).to(self.device),\n",
    "                \"domain_classifier\" : mnist_m_batch['target'].to(self.device)\n",
    "            }\n",
    "        }\n",
    "\n",
    "    def batch(self, mnist_batch, mnist_m_batch, task):\n",
    "        \n",
    "        X = self.get_X(mnist_batch, mnist_m_batch)        \n",
    "        if task:\n",
    "            return self.cycle(X)\n",
    "        else:\n",
    "            return self.stats(X)\n",
    "    \n",
    "    def __get_tensorboard(self):\n",
    "        from torch.utils.tensorboard import SummaryWriter\n",
    "        from datetime import datetime\n",
    "\n",
    "        task_type = \"MNIST\"\n",
    "        time_date = \"{}\".format(datetime.now())\n",
    "        self.tensorboard_writer = SummaryWriter(\"log/{}/{}\".format(task_type, time_date))"
   ]
  },
  {
   "cell_type": "code",
   "execution_count": 369,
   "metadata": {},
   "outputs": [],
   "source": [
    "trainer = train(model)"
   ]
  },
  {
   "cell_type": "code",
   "execution_count": null,
   "metadata": {},
   "outputs": [
    {
     "data": {
      "application/vnd.jupyter.widget-view+json": {
       "model_id": "96d589e5380949eebc75b602ebf76017",
       "version_major": 2,
       "version_minor": 0
      },
      "text/plain": [
       "HBox(children=(FloatProgress(value=0.0, max=1000.0), HTML(value='')))"
      ]
     },
     "metadata": {},
     "output_type": "display_data"
    }
   ],
   "source": [
    "best_acc = 0\n",
    "for epoch in tqdm(range(1000)):\n",
    "    \n",
    "    mnist_m_iter = dataset['train']['mnist_m'].__iter__()\n",
    "    for mnist_batch in dataset['train']['mnist']:\n",
    "        \n",
    "        mnist_m_batch = next(mnist_m_iter, None)\n",
    "        if mnist_m_batch is None:\n",
    "            mnist_m_iter = dataset['train']['mnist_m'].__iter__()\n",
    "            mnist_m_batch = next(mnist_m_iter, None)\n",
    "            \n",
    "        loss = trainer.batch(mnist_batch, mnist_m_batch, True)\n",
    "        trainer.tensorboard_writer.add_scalar(\"loss/batch/train\", loss.item())\n",
    "    trainer.step+=1\n",
    "    \n",
    "    stats = {\n",
    "        \"loss\":[],\n",
    "        \"acc\" : {\n",
    "            \"domain\":[],\n",
    "            \"classifier\":[]\n",
    "        }\n",
    "    }\n",
    "    mnist_m_iter = dataset['train']['mnist_m'].__iter__()\n",
    "    for mnist_batch in dataset['train']['mnist']:\n",
    "        \n",
    "        mnist_m_batch = next(mnist_m_iter, None)\n",
    "        if mnist_m_batch is None:\n",
    "            mnist_m_iter = dataset['train']['mnist_m'].__iter__()\n",
    "            mnist_m_batch = next(mnist_m_iter, None)        \n",
    "        \n",
    "        batch_stats = trainer.batch(mnist_batch, mnist_m_batch, False)\n",
    "        stats['loss'].append(batch_stats['loss'])\n",
    "        stats['acc']['domain'].append(batch_stats['acc']['domain'])\n",
    "        stats['acc']['classifier'].append(batch_stats['acc']['classifier'])\n",
    "    \n",
    "    write_stats(stats, \"train\", epoch)\n",
    "    \n",
    "    stats = {\n",
    "        \"loss\":[],\n",
    "        \"acc\" : {\n",
    "            \"domain\":[],\n",
    "            \"classifier\":[]\n",
    "        }\n",
    "    }\n",
    "    mnist_m_iter = dataset['test']['mnist_m'].__iter__()\n",
    "    for mnist_batch in dataset['test']['mnist']:\n",
    "        \n",
    "        mnist_m_batch = next(mnist_m_iter, None)\n",
    "        if mnist_m_batch is None:\n",
    "            mnist_m_iter = dataset['test']['mnist_m'].__iter__()\n",
    "            mnist_m_batch = next(mnist_m_iter, None)        \n",
    "        \n",
    "        batch_stats = trainer.batch(mnist_batch, mnist_m_batch, False)\n",
    "        stats['loss'].append(batch_stats['loss'])\n",
    "        stats['acc']['domain'].append(batch_stats['acc']['domain'])\n",
    "        stats['acc']['classifier'].append(batch_stats['acc']['classifier'])\n",
    "    \n",
    "    write_stats(stats, \"test\", epoch)\n",
    "    \n",
    "    \n",
    "    if np.mean(stats['acc']['domain']) > best_acc:\n",
    "        torch.save(trainer.model.state_dict(), \"./weights/model_{}\".format(epoch))\n",
    "        \n",
    "print('Finished Training')"
   ]
  },
  {
   "cell_type": "code",
   "execution_count": 343,
   "metadata": {},
   "outputs": [
    {
     "data": {
      "text/plain": [
       "0"
      ]
     },
     "execution_count": 343,
     "metadata": {},
     "output_type": "execute_result"
    }
   ],
   "source": [
    "trainer.step"
   ]
  },
  {
   "cell_type": "code",
   "execution_count": 315,
   "metadata": {},
   "outputs": [],
   "source": [
    "trainer.tensorboard_writer.flush()"
   ]
  },
  {
   "cell_type": "code",
   "execution_count": 284,
   "metadata": {},
   "outputs": [],
   "source": [
    "X = trainer.get_X(mnist_batch, mnist_m_batch)"
   ]
  },
  {
   "cell_type": "code",
   "execution_count": 297,
   "metadata": {},
   "outputs": [],
   "source": [
    "output = trainer.loop(X['input'])"
   ]
  },
  {
   "cell_type": "code",
   "execution_count": 308,
   "metadata": {},
   "outputs": [
    {
     "data": {
      "text/plain": [
       "array([False, False, False, False, False, False, False, False, False,\n",
       "       False, False, False, False, False, False,  True, False, False,\n",
       "       False, False, False, False,  True, False, False, False,  True,\n",
       "       False, False, False, False,  True, False, False, False, False,\n",
       "       False, False, False, False, False, False, False, False, False,\n",
       "       False, False, False, False,  True, False, False, False, False,\n",
       "       False, False, False, False, False, False, False,  True, False,\n",
       "       False])"
      ]
     },
     "execution_count": 308,
     "metadata": {},
     "output_type": "execute_result"
    }
   ],
   "source": [
    "torch.nn.functional.softmax(output['classifier'], dim=-1).argmax(-1).cpu().numpy() == X['target']['classifier'].cpu().numpy()"
   ]
  },
  {
   "cell_type": "code",
   "execution_count": 293,
   "metadata": {},
   "outputs": [
    {
     "data": {
      "text/plain": [
       "tensor([0, 4, 4, 0, 9, 3, 5, 8, 9, 7, 4, 5, 4, 8, 3, 2, 7, 1, 3, 7, 9, 3, 2, 5,\n",
       "        4, 5, 2, 9, 7, 1, 4, 2, 7, 1, 6, 3, 9, 8, 3, 6, 4, 4, 1, 9, 6, 4, 3, 9,\n",
       "        1, 2, 9, 0, 7, 0, 0, 4, 8, 4, 3, 6, 3, 2, 6, 5], device='cuda:0')"
      ]
     },
     "execution_count": 293,
     "metadata": {},
     "output_type": "execute_result"
    }
   ],
   "source": [
    "X['target']['domain_classifier']"
   ]
  },
  {
   "cell_type": "code",
   "execution_count": 295,
   "metadata": {},
   "outputs": [
    {
     "data": {
      "text/plain": [
       "<matplotlib.image.AxesImage at 0x7f5ad9d69c50>"
      ]
     },
     "execution_count": 295,
     "metadata": {},
     "output_type": "execute_result"
    },
    {
     "data": {
      "image/png": "[encoded data removed]",
      "text/plain": [
       "<Figure size 432x288 with 1 Axes>"
      ]
     },
     "metadata": {
      "needs_background": "light"
     },
     "output_type": "display_data"
    }
   ],
   "source": [
    "plt.imshow(X['input'][65].transpose(0, 2).cpu())"
   ]
  },
  {
   "cell_type": "code",
   "execution_count": 344,
   "metadata": {},
   "outputs": [],
   "source": [
    "lam = (2/(1+np.exp(-1*0/100))) - 1"
   ]
  },
  {
   "cell_type": "code",
   "execution_count": 345,
   "metadata": {},
   "outputs": [
    {
     "data": {
      "text/plain": [
       "0.0"
      ]
     },
     "execution_count": 345,
     "metadata": {},
     "output_type": "execute_result"
    }
   ],
   "source": [
    "lam"
   ]
  },
  {
   "cell_type": "code",
   "execution_count": null,
   "metadata": {},
   "outputs": [],
   "source": []
  }
 ],
 "metadata": {
  "kernelspec": {
   "display_name": "Python 3",
   "language": "python",
   "name": "python3"
  }
 },
 "nbformat": 4,
 "nbformat_minor": 2
}
